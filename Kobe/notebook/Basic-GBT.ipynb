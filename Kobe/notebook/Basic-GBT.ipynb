{
 "cells": [
  {
   "cell_type": "code",
   "execution_count": 41,
   "metadata": {
    "collapsed": true
   },
   "outputs": [],
   "source": [
    "import numpy as np # linear algebra\n",
    "import pandas as pd # data processing, CSV file I/O (e.g. pd.read_csv)\n",
    "\n",
    "# Visualisation\n",
    "import matplotlib as mpl\n",
    "import matplotlib.pyplot as plt\n",
    "import matplotlib.pylab as pylab\n",
    "import seaborn as sns\n",
    "%matplotlib inline\n",
    "\n",
    "sns.set_style('whitegrid')\n",
    "pd.set_option('display.max_columns', None) # display all columns"
   ]
  },
  {
   "cell_type": "code",
   "execution_count": 42,
   "metadata": {
    "collapsed": false
   },
   "outputs": [],
   "source": [
    "from sklearn.decomposition import PCA, KernelPCA\n",
    "from sklearn.cross_validation import KFold, cross_val_score\n",
    "from sklearn.metrics import make_scorer\n",
    "from sklearn.grid_search import GridSearchCV\n",
    "from sklearn.feature_selection import VarianceThreshold, RFE, SelectKBest, chi2\n",
    "from sklearn.preprocessing import MinMaxScaler\n",
    "from sklearn.pipeline import Pipeline, FeatureUnion\n",
    "from sklearn.linear_model import LogisticRegression\n",
    "from sklearn.discriminant_analysis import LinearDiscriminantAnalysis\n",
    "from sklearn.neighbors import KNeighborsClassifier\n",
    "from sklearn.tree import DecisionTreeClassifier\n",
    "from sklearn.naive_bayes import GaussianNB\n",
    "from sklearn.svm import SVC\n",
    "from sklearn.ensemble import BaggingClassifier, ExtraTreesClassifier, GradientBoostingClassifier, VotingClassifier, RandomForestClassifier, AdaBoostClassifier\n"
   ]
  },
  {
   "cell_type": "code",
   "execution_count": 47,
   "metadata": {
    "collapsed": true
   },
   "outputs": [],
   "source": [
    "data = pd.read_csv(\"../input/data.csv\")"
   ]
  },
  {
   "cell_type": "code",
   "execution_count": 48,
   "metadata": {
    "collapsed": false
   },
   "outputs": [],
   "source": [
    "data['seconds_from_period_end'] = 60 * data['minutes_remaining'] + data['seconds_remaining']\n",
    "data.loc[data['seconds_from_period_end'] < 5, 'last_5_sec_in_period'] = 1\n",
    "data.loc[data['seconds_from_period_end'] >= 5, 'last_5_sec_in_period'] = 0"
   ]
  },
  {
   "cell_type": "code",
   "execution_count": 49,
   "metadata": {
    "collapsed": false
   },
   "outputs": [],
   "source": [
    "data.drop([\"seconds_remaining\"], axis=1, inplace=True)\n",
    "data.drop([\"team_name\"], axis=1, inplace=True)\n",
    "data.drop([\"game_event_id\"], axis=1, inplace=True)\n",
    "data.drop([\"lat\"], axis=1, inplace=True)\n",
    "data.drop([\"lon\"], axis=1, inplace=True)\n",
    "data.drop([\"game_id\"], axis=1, inplace=True)\n",
    "data.drop([\"team_id\"], axis=1, inplace=True)\n",
    "data.drop([\"matchup\"], axis=1, inplace=True)"
   ]
  },
  {
   "cell_type": "code",
   "execution_count": 50,
   "metadata": {
    "collapsed": false
   },
   "outputs": [],
   "source": [
    "# Game date\n",
    "data['game_date'] = pd.to_datetime(data['game_date']).astype('category')\n",
    "data['game_year'] = data['game_date'].dt.year.astype('category')\n",
    "data['game_month'] = data['game_date'].dt.month.astype('category')\n",
    "data['game_day'] = data['game_date'].dt.dayofweek.astype('category')\n",
    "\n",
    "data.drop('game_date', axis=1, inplace=True)"
   ]
  },
  {
   "cell_type": "code",
   "execution_count": 7,
   "metadata": {
    "collapsed": false
   },
   "outputs": [
    {
     "name": "stdout",
     "output_type": "stream",
     "text": [
      "<class 'pandas.core.frame.DataFrame'>\n",
      "RangeIndex: 30697 entries, 0 to 30696\n",
      "Data columns (total 20 columns):\n",
      "action_type                30697 non-null object\n",
      "combined_shot_type         30697 non-null object\n",
      "loc_x                      30697 non-null int64\n",
      "loc_y                      30697 non-null int64\n",
      "minutes_remaining          30697 non-null int64\n",
      "period                     30697 non-null int64\n",
      "playoffs                   30697 non-null int64\n",
      "season                     30697 non-null object\n",
      "shot_distance              30697 non-null int64\n",
      "shot_made_flag             25697 non-null float64\n",
      "shot_type                  30697 non-null object\n",
      "shot_zone_area             30697 non-null object\n",
      "shot_zone_basic            30697 non-null object\n",
      "shot_zone_range            30697 non-null object\n",
      "opponent                   30697 non-null object\n",
      "shot_id                    30697 non-null int64\n",
      "seconds_from_period_end    30697 non-null int64\n",
      "last_5_sec_in_period       30697 non-null float64\n",
      "game_year                  30697 non-null category\n",
      "game_month                 30697 non-null category\n",
      "dtypes: category(2), float64(2), int64(8), object(8)\n",
      "memory usage: 4.3+ MB\n"
     ]
    }
   ],
   "source": [
    "data.info()"
   ]
  },
  {
   "cell_type": "code",
   "execution_count": 8,
   "metadata": {
    "collapsed": false
   },
   "outputs": [],
   "source": [
    "categorial_cols = [\n",
    "    'action_type', 'combined_shot_type', 'season', 'shot_type', \"game_year\", \"game_month\", \n",
    "    'shot_zone_area', 'shot_zone_basic', 'shot_zone_range', 'opponent', 'loc_x', 'loc_y'\n",
    "]\n",
    "\n",
    "for col in categorial_cols:\n",
    "    dummies = pd.get_dummies(data[col])\n",
    "    dummies = dummies.add_prefix(\"{}#\".format(col))\n",
    "    data.drop(col, axis=1, inplace=True)\n",
    "    data = data.join(dummies)"
   ]
  },
  {
   "cell_type": "code",
   "execution_count": 9,
   "metadata": {
    "collapsed": true
   },
   "outputs": [],
   "source": [
    "train = data.loc[pd.notnull(data.shot_made_flag)]\n",
    "test = data.loc[pd.isnull(data.shot_made_flag)]"
   ]
  },
  {
   "cell_type": "code",
   "execution_count": 10,
   "metadata": {
    "collapsed": true
   },
   "outputs": [],
   "source": [
    "X = train.drop([\"shot_made_flag\"], axis=1)\n",
    "y = train[\"shot_made_flag\"]\n",
    "test = test.drop([\"shot_made_flag\"], axis = 1)"
   ]
  },
  {
   "cell_type": "code",
   "execution_count": 11,
   "metadata": {
    "collapsed": false
   },
   "outputs": [
    {
     "data": {
      "text/plain": [
       "(25697, 1119)"
      ]
     },
     "execution_count": 11,
     "metadata": {},
     "output_type": "execute_result"
    }
   ],
   "source": [
    "X.shape"
   ]
  },
  {
   "cell_type": "code",
   "execution_count": 12,
   "metadata": {
    "collapsed": true
   },
   "outputs": [],
   "source": [
    "seed = 7\n",
    "processors=1\n",
    "num_folds=3\n",
    "num_instances=len(X)\n",
    "scoring='neg_log_loss'\n",
    "\n",
    "kfold = KFold(n=num_instances, n_folds=num_folds, random_state=seed)"
   ]
  },
  {
   "cell_type": "code",
   "execution_count": 13,
   "metadata": {
    "collapsed": false
   },
   "outputs": [
    {
     "name": "stdout",
     "output_type": "stream",
     "text": [
      "(-0.614) +/- (0.003)\n"
     ]
    }
   ],
   "source": [
    "model = GradientBoostingClassifier(n_estimators=100, random_state=seed)\n",
    "\n",
    "results = cross_val_score(model, X, y, cv=kfold, scoring=scoring, n_jobs=processors)\n",
    "print(\"({0:.3f}) +/- ({1:.3f})\".format(results.mean(), results.std()))"
   ]
  },
  {
   "cell_type": "code",
   "execution_count": 20,
   "metadata": {
    "collapsed": false
   },
   "outputs": [],
   "source": [
    "model.fit(X, y)"
   ]
  },
  {
   "cell_type": "code",
   "execution_count": 38,
   "metadata": {
    "collapsed": false
   },
   "outputs": [],
   "source": [
    "y_pred = model.predict_proba(X)[:,1]"
   ]
  },
  {
   "cell_type": "code",
   "execution_count": 40,
   "metadata": {
    "collapsed": false
   },
   "outputs": [],
   "source": [
    "y_sumbit = model.predict_proba(test)\n",
    "submission = pd.DataFrame()\n",
    "submission[\"shot_id\"] = test.shot_id\n",
    "submission[\"shot_made_flag\"]= y_sumbit[:,1]\n",
    "submission.to_csv(\"../output/gbt.csv\",index=False)"
   ]
  },
  {
   "cell_type": "code",
   "execution_count": null,
   "metadata": {
    "collapsed": true
   },
   "outputs": [],
   "source": []
  }
 ],
 "metadata": {
  "kernelspec": {
   "display_name": "Python 2",
   "language": "python",
   "name": "python2"
  },
  "language_info": {
   "codemirror_mode": {
    "name": "ipython",
    "version": 2
   },
   "file_extension": ".py",
   "mimetype": "text/x-python",
   "name": "python",
   "nbconvert_exporter": "python",
   "pygments_lexer": "ipython2",
   "version": "2.7.13"
  }
 },
 "nbformat": 4,
 "nbformat_minor": 2
}
